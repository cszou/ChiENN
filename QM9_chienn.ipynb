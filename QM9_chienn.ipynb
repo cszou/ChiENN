{
 "cells": [
  {
   "cell_type": "code",
   "execution_count": 11,
   "metadata": {},
   "outputs": [],
   "source": [
    "import torch\n",
    "from torch_geometric.nn import GCNConv, global_mean_pool, GATConv, GINConv, Sequential\n",
    "from torch.nn import Sequential as Seq, Linear, ReLU\n",
    "import torch.nn.functional as F\n",
    "import torch.optim as optim\n",
    "from torch_geometric.datasets import MoleculeNet, QM9\n",
    "# from torch_geometric.loader import DataLoader\n",
    "from torch.utils.data import DataLoader\n",
    "from tqdm import tqdm\n",
    "from sklearn.metrics import mean_absolute_error, mean_squared_error, r2_score\n",
    "import numpy as np\n",
    "from chienn.data.edge_graph import to_edge_graph, collate_circle_index\n",
    "from chienn.data.featurization import smiles_to_3d_mol, mol_to_data\n",
    "from chienn.data.featurize import *\n",
    "from chienn.model.chienn_layer import *"
   ]
  },
  {
   "cell_type": "code",
   "execution_count": 12,
   "metadata": {},
   "outputs": [],
   "source": [
    "def preprocess_features(dataset):\n",
    "    data_list = []\n",
    "    idx = []\n",
    "    for i, data in enumerate(tqdm(dataset)):\n",
    "        smiles = data.smiles\n",
    "        try:\n",
    "            processed_data = smiles_to_data_with_circle_index(smiles)\n",
    "            processed_data.y = data.y \n",
    "            data_list.append(processed_data)\n",
    "        except:\n",
    "            idx.append(i)\n",
    "    return data_list"
   ]
  },
  {
   "cell_type": "code",
   "execution_count": 2,
   "metadata": {},
   "outputs": [],
   "source": [
    "# dataset = QM9(root='data/MoleculeNet/qm9')\n",
    "# mean = dataset.data.y.mean(dim=0)\n",
    "# std = dataset.data.y.std(dim=0)\n",
    "# dataset.data.y = (dataset.data.y - mean) / std\n",
    "# processed_dataset = preprocess_features(dataset)\n",
    "# torch.save(processed_dataset, 'processed_qm9.pt')\n",
    "# processed_data = preprocess_features(dataset)\n",
    "dataset = torch.load('processed_qm9.pt', weights_only=False)"
   ]
  },
  {
   "cell_type": "code",
   "execution_count": 13,
   "metadata": {},
   "outputs": [],
   "source": [
    "def custom_collate(data_list):\n",
    "    return collate_with_circle_index(data_list, k_neighbors=3)"
   ]
  },
  {
   "cell_type": "code",
   "execution_count": 19,
   "metadata": {},
   "outputs": [],
   "source": [
    "train_len = int(len(dataset) * 0.8)\n",
    "train_set, val_set = torch.utils.data.random_split(dataset, [0.8, 0.2])\n",
    "train_loader = DataLoader(train_set, batch_size=64, shuffle=True, collate_fn=custom_collate)\n",
    "val_loader = DataLoader(val_set, batch_size=64, collate_fn=custom_collate)"
   ]
  },
  {
   "cell_type": "code",
   "execution_count": null,
   "metadata": {},
   "outputs": [],
   "source": [
    "len(dataset), len(train_set), len(val_set)"
   ]
  },
  {
   "cell_type": "code",
   "execution_count": 6,
   "metadata": {},
   "outputs": [],
   "source": [
    "class GCN(torch.nn.Module):\n",
    "    def __init__(self, in_channels, hidden_channels, out_channels):\n",
    "        super(GCN, self).__init__()\n",
    "        self.conv1 = GCNConv(in_channels, hidden_channels)\n",
    "        self.chilayer = ChiENNLayer(hidden_dim=93)\n",
    "        self.conv2 = GCNConv(93, hidden_channels)\n",
    "        self.ln = Linear(hidden_channels, out_channels)\n",
    "        self.pool = global_mean_pool\n",
    "\n",
    "    def forward(self, data):\n",
    "        x, edge_index = data.x, data.edge_index\n",
    "        # x = F.elu(self.conv1(x, edge_index))\n",
    "        x = F.elu(self.chilayer(data))\n",
    "        x = F.dropout(x, training=self.training)\n",
    "        x = F.elu(self.conv2(x, edge_index))\n",
    "        x = self.pool(x, data.batch)\n",
    "        x = self.ln(x)\n",
    "        return x"
   ]
  },
  {
   "cell_type": "code",
   "execution_count": 7,
   "metadata": {},
   "outputs": [],
   "source": [
    "class GAT(torch.nn.Module):\n",
    "    def __init__(self, in_channels, hidden_channels, out_channels, heads=4):\n",
    "        super(GAT, self).__init__()\n",
    "        self.conv1 = GATConv(in_channels, hidden_channels, heads=heads, concat=True)\n",
    "        self.chilayer = ChiENNLayer(hidden_dim=93)\n",
    "        self.conv2 = GATConv(93, hidden_channels, heads=1, concat=False)\n",
    "        self.ln = Linear(hidden_channels, out_channels)\n",
    "        self.pool = global_mean_pool\n",
    "\n",
    "    def forward(self, data):\n",
    "        x, edge_index = data.x, data.edge_index\n",
    "        # x = F.elu(self.conv1(x, edge_index))\n",
    "        x = F.elu(self.chilayer(data))\n",
    "        x = F.dropout(x, training=self.training)\n",
    "        x = F.elu(self.conv2(x, edge_index))\n",
    "        x = self.pool(x, data.batch)\n",
    "        x = self.ln(x)\n",
    "        return x\n"
   ]
  },
  {
   "cell_type": "code",
   "execution_count": 8,
   "metadata": {},
   "outputs": [],
   "source": [
    "class GIN(torch.nn.Module):\n",
    "    def __init__(self, in_channels, hidden_channels, out_channels):\n",
    "        super(GIN, self).__init__()\n",
    "        nn = Seq(Linear(in_channels, hidden_channels), ReLU(), Linear(hidden_channels, hidden_channels))\n",
    "        self.conv1 = GINConv(nn)\n",
    "        self.chilayer = ChiENNLayer(hidden_dim=93)\n",
    "        nn = Seq(Linear(93, hidden_channels), ReLU(), Linear(hidden_channels, hidden_channels))\n",
    "        self.conv2 = GINConv(nn)\n",
    "        self.ln = Linear(hidden_channels, out_channels)\n",
    "        self.pool = global_mean_pool\n",
    "\n",
    "    def forward(self, data):\n",
    "        x, edge_index = data.x.float(), data.edge_index\n",
    "        # x = F.elu(self.conv1(x, edge_index))\n",
    "        x = F.elu(self.chilayer(data))\n",
    "        x = F.dropout(x, training=self.training)\n",
    "        x = F.elu(self.conv2(x, edge_index))\n",
    "        x = self.pool(x, data.batch)\n",
    "        x = self.ln(x)\n",
    "        return x\n"
   ]
  },
  {
   "cell_type": "code",
   "execution_count": 33,
   "metadata": {},
   "outputs": [],
   "source": [
    "def validate(model, loader, task):\n",
    "    model.eval()\n",
    "    y_true, y_pred = [], []\n",
    "    with torch.no_grad():\n",
    "        for data in tqdm(loader):\n",
    "            output = model(data.to('cuda')).flatten()\n",
    "            y_true.append(data.y[:, task].cpu())\n",
    "            y_pred.append(output.cpu())\n",
    "\n",
    "    y_true = torch.cat(y_true).numpy()\n",
    "    y_pred = torch.cat(y_pred).numpy()\n",
    "\n",
    "    # Metrics\n",
    "    mae = mean_absolute_error(y_true, y_pred)\n",
    "    rmse = np.sqrt(mean_squared_error(y_true, y_pred))\n",
    "    r2 = r2_score(y_true, y_pred)\n",
    "    print(y_pred[-1], y_true[-1])\n",
    "    return mae, rmse, r2"
   ]
  },
  {
   "cell_type": "code",
   "execution_count": 34,
   "metadata": {},
   "outputs": [],
   "source": [
    "epochs = 10"
   ]
  },
  {
   "cell_type": "code",
   "execution_count": null,
   "metadata": {},
   "outputs": [],
   "source": [
    "for task in range(3, 12):\n",
    "    print(f'task {task+1}:')\n",
    "    model = GCN(in_channels=93, hidden_channels=32, out_channels=1)\n",
    "    optimizer = optim.Adam(model.parameters(), lr=0.001)\n",
    "    loss_fn = torch.nn.MSELoss()\n",
    "    model.to('cuda').train()\n",
    "    first = True\n",
    "    losses = []\n",
    "    validation = {'mae': [], 'rmse': [], 'r2': []}\n",
    "    for epoch in range(epochs):\n",
    "        total_loss = 0\n",
    "        for i, data in enumerate(tqdm(train_loader)):\n",
    "            output = model(data.to('cuda')).flatten()\n",
    "            targets = data.y[:, task].to('cuda')\n",
    "            loss = loss_fn(output, targets)\n",
    "            if first:\n",
    "                print(loss)\n",
    "                first = False\n",
    "            optimizer.zero_grad()\n",
    "            loss.backward()\n",
    "            optimizer.step()\n",
    "            total_loss += loss\n",
    "        print(f'epoch {epoch+1}: loss: {total_loss / len(train_loader)}')\n",
    "        mae, rmse, r2 = validate(model, val_loader, task)\n",
    "        print(f'validate mae: {mae}, rmse: {rmse}, r2: {r2}')\n",
    "        losses.append(total_loss / len(train_loader))\n",
    "        validation['mae'].append(mae)\n",
    "        validation['rmse'].append(rmse)\n",
    "        validation['r2'].append(r2)\n",
    "    torch.save(losses, f'gcn_chienn_losses_{task+1}.pt')\n",
    "    torch.save(validation, f'gcn_chienn_validation_{task+1}.pt')\n",
    "    print(f'task {task+1} finished')"
   ]
  },
  {
   "cell_type": "code",
   "execution_count": null,
   "metadata": {},
   "outputs": [],
   "source": [
    "model = GAT(in_channels=93, hidden_channels=32, out_channels=1)\n",
    "optimizer = optim.Adam(model.parameters(), lr=0.001)\n",
    "loss_fn = torch.nn.MSELoss()\n",
    "model.to('cuda').train()\n",
    "first = True\n",
    "for epoch in range(epochs):\n",
    "    total_loss = 0\n",
    "    for i, data in enumerate(tqdm(train_loader)):\n",
    "        output = model(data.to('cuda')).flatten()\n",
    "        targets = data.y[:, 0].to('cuda')\n",
    "        loss = loss_fn(output, targets)\n",
    "        if first:\n",
    "            print(loss)\n",
    "            first = False\n",
    "        optimizer.zero_grad()\n",
    "        loss.backward()\n",
    "        optimizer.step()\n",
    "        total_loss += loss\n",
    "    print(f'epoch {epoch+1}: loss: {total_loss / len(train_loader)}')\n",
    "    mae, rmse, r2 = validate(model, val_loader)\n",
    "    print(f'validate mae: {mae}, rmse: {rmse}, r2: {r2}')"
   ]
  },
  {
   "cell_type": "code",
   "execution_count": null,
   "metadata": {},
   "outputs": [],
   "source": [
    "model = GIN(in_channels=93, hidden_channels=32, out_channels=1)\n",
    "optimizer = optim.Adam(model.parameters(), lr=0.001)\n",
    "loss_fn = torch.nn.MSELoss()\n",
    "model.to('cuda').train()\n",
    "first = True\n",
    "for epoch in range(epochs):\n",
    "    total_loss = 0\n",
    "    for i, data in enumerate(tqdm(train_loader)):\n",
    "        output = model(data.to('cuda')).flatten()\n",
    "        targets = data.y[:, 0].to('cuda')\n",
    "        loss = loss_fn(output, targets)\n",
    "        if first:\n",
    "            print(loss)\n",
    "            first = False\n",
    "        optimizer.zero_grad()\n",
    "        loss.backward()\n",
    "        optimizer.step()\n",
    "        total_loss += loss\n",
    "    print(f'epoch {epoch+1}: loss: {total_loss / len(train_loader)}')\n",
    "    mae, rmse, r2 = validate(model, val_loader)\n",
    "    print(f'validate mae: {mae}, rmse: {rmse}, r2: {r2}')"
   ]
  }
 ],
 "metadata": {
  "kernelspec": {
   "display_name": ".venv",
   "language": "python",
   "name": "python3"
  },
  "language_info": {
   "codemirror_mode": {
    "name": "ipython",
    "version": 3
   },
   "file_extension": ".py",
   "mimetype": "text/x-python",
   "name": "python",
   "nbconvert_exporter": "python",
   "pygments_lexer": "ipython3",
   "version": "3.11.9"
  }
 },
 "nbformat": 4,
 "nbformat_minor": 2
}
