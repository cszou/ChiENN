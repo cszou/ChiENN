{
 "cells": [
  {
   "cell_type": "code",
   "execution_count": 37,
   "metadata": {},
   "outputs": [],
   "source": [
    "import torch\n",
    "from torch_geometric.nn import GCNConv, global_mean_pool, GATConv, GINConv, Sequential\n",
    "from torch.nn import Sequential as Seq, Linear, ReLU\n",
    "import torch.nn.functional as F\n",
    "import torch.optim as optim\n",
    "from torch_geometric.datasets import MoleculeNet, QM9\n",
    "# from torch_geometric.loader import DataLoader\n",
    "from torch.utils.data import DataLoader\n",
    "from tqdm import tqdm\n",
    "from sklearn.metrics import mean_absolute_error, mean_squared_error, r2_score, roc_auc_score\n",
    "import numpy as np\n",
    "from chienn.data.edge_graph import to_edge_graph, collate_circle_index\n",
    "from chienn.data.featurization import smiles_to_3d_mol, mol_to_data\n",
    "from chienn.data.featurize import *\n",
    "from chienn.model.chienn_layer import *"
   ]
  },
  {
   "cell_type": "code",
   "execution_count": 38,
   "metadata": {},
   "outputs": [],
   "source": [
    "device = 'cuda' if torch.cuda.is_available() else 'cpu'"
   ]
  },
  {
   "cell_type": "code",
   "execution_count": 39,
   "metadata": {},
   "outputs": [],
   "source": [
    "def preprocess_features(dataset):\n",
    "    data_list = []\n",
    "    idx = []\n",
    "    for i, data in enumerate(tqdm(dataset)):\n",
    "        smiles = data.smiles\n",
    "        try:\n",
    "            processed_data = smiles_to_data_with_circle_index(smiles)\n",
    "            processed_data.y = data.y \n",
    "            data_list.append(processed_data)\n",
    "        except:\n",
    "            idx.append(i)\n",
    "    return data_list"
   ]
  },
  {
   "cell_type": "code",
   "execution_count": 40,
   "metadata": {},
   "outputs": [],
   "source": [
    "dataset = MoleculeNet(root=\"data/MoleculeNet\", name=\"Tox21\")\n",
    "# processed_dataset = preprocess_features(dataset)\n",
    "# torch.save(processed_dataset, 'processed_tox21.pt')\n"
   ]
  },
  {
   "cell_type": "code",
   "execution_count": null,
   "metadata": {},
   "outputs": [],
   "source": [
    "processed_dataset = torch.load('processed_tox21.pt')\n",
    "print(len(processed_dataset)/len(dataset))"
   ]
  },
  {
   "cell_type": "code",
   "execution_count": 29,
   "metadata": {},
   "outputs": [],
   "source": [
    "def custom_collate(data_list):\n",
    "    return collate_with_circle_index(data_list, k_neighbors=3)"
   ]
  },
  {
   "cell_type": "code",
   "execution_count": 30,
   "metadata": {},
   "outputs": [],
   "source": [
    "train_len = int(len(processed_dataset) * 0.8)\n",
    "train_set, val_set = torch.utils.data.random_split(processed_dataset, [0.8, 0.2])\n",
    "train_loader = DataLoader(train_set, batch_size=128, shuffle=True, collate_fn=custom_collate)\n",
    "val_loader = DataLoader(val_set, batch_size=128, collate_fn=custom_collate)"
   ]
  },
  {
   "cell_type": "code",
   "execution_count": 31,
   "metadata": {},
   "outputs": [],
   "source": [
    "class GCN(torch.nn.Module):\n",
    "    def __init__(self, in_channels, hidden_channels, out_channels):\n",
    "        super(GCN, self).__init__()\n",
    "        self.conv1 = GCNConv(in_channels, hidden_channels)\n",
    "        self.chilayer = ChiENNLayer(hidden_dim=93)\n",
    "        self.conv2 = GCNConv(93, hidden_channels)\n",
    "        self.ln = Linear(hidden_channels, out_channels)\n",
    "        self.pool = global_mean_pool\n",
    "\n",
    "    def forward(self, data):\n",
    "        x, edge_index = data.x.float(), data.edge_index\n",
    "        # x = F.relu(self.conv1(x, edge_index))\n",
    "        x = F.relu(self.chilayer(data))\n",
    "        x = F.dropout(x, training=self.training)\n",
    "        x = F.relu(self.conv2(x, edge_index))\n",
    "        x = self.pool(x, data.batch)\n",
    "        x = self.ln(x)\n",
    "        return x"
   ]
  },
  {
   "cell_type": "code",
   "execution_count": 32,
   "metadata": {},
   "outputs": [],
   "source": [
    "class GAT(torch.nn.Module):\n",
    "    def __init__(self, in_channels, hidden_channels, out_channels, heads=4):\n",
    "        super(GAT, self).__init__()\n",
    "        self.conv1 = GATConv(in_channels, hidden_channels, heads=heads, concat=True)\n",
    "        self.chilayer = ChiENNLayer(hidden_dim=93)\n",
    "        self.conv2 = GATConv(93, hidden_channels, heads=1, concat=False)\n",
    "        self.ln = Linear(hidden_channels, out_channels)\n",
    "        self.pool = global_mean_pool\n",
    "\n",
    "    def forward(self, data):\n",
    "        x, edge_index = data.x.float(), data.edge_index\n",
    "        # x = F.relu(self.conv1(x, edge_index))\n",
    "        x = F.relu(self.chilayer(data))\n",
    "        x = F.dropout(x, training=self.training)\n",
    "        x = F.relu(self.conv2(x, edge_index))\n",
    "        x = self.pool(x, data.batch)\n",
    "        x = self.ln(x)\n",
    "        return x"
   ]
  },
  {
   "cell_type": "code",
   "execution_count": 33,
   "metadata": {},
   "outputs": [],
   "source": [
    "class GIN(torch.nn.Module):\n",
    "    def __init__(self, in_channels, hidden_channels, out_channels):\n",
    "        super(GIN, self).__init__()\n",
    "        nn = Seq(Linear(in_channels, hidden_channels), ReLU(), Linear(hidden_channels, hidden_channels))\n",
    "        self.conv1 = GINConv(nn)\n",
    "        self.chilayer = ChiENNLayer(hidden_dim=93)\n",
    "        nn = Seq(Linear(93, hidden_channels), ReLU(), Linear(hidden_channels, hidden_channels))\n",
    "        self.conv2 = GINConv(nn)\n",
    "        self.ln = Linear(hidden_channels, out_channels)\n",
    "        self.pool = global_mean_pool\n",
    "\n",
    "    def forward(self, data):\n",
    "        x, edge_index = data.x.float(), data.edge_index\n",
    "        # x = F.relu(self.conv1(x, edge_index))\n",
    "        x = F.relu(self.chilayer(data))\n",
    "        x = F.dropout(x, training=self.training)\n",
    "        x = F.relu(self.conv2(x, edge_index))\n",
    "        x = self.pool(x, data.batch)\n",
    "        x = self.ln(x)\n",
    "        return x\n"
   ]
  },
  {
   "cell_type": "code",
   "execution_count": 42,
   "metadata": {},
   "outputs": [],
   "source": [
    "def validate(model, loader):\n",
    "    model.eval()\n",
    "    y_true, y_pred = [], []\n",
    "    with torch.no_grad():\n",
    "        for data in val_loader:\n",
    "            data = data.to(device)\n",
    "            output = torch.sigmoid(model(data))  # Apply sigmoid for probabilities\n",
    "\n",
    "            # Mask NaN targets in validation\n",
    "            mask = ~torch.isnan(data.y)\n",
    "            y_true.append(data.y[mask].cpu())\n",
    "            y_pred.append(output[mask].cpu())\n",
    "\n",
    "    # Concatenate and evaluate AUC-ROC\n",
    "    y_true = torch.cat(y_true, dim=0).numpy()\n",
    "    y_pred = torch.cat(y_pred, dim=0).numpy()\n",
    "    auc_roc = roc_auc_score(y_true, y_pred, average='macro')\n",
    "    print(f\"Validation AUC-ROC: {auc_roc:.4f}\")\n",
    "    return auc_roc"
   ]
  },
  {
   "cell_type": "code",
   "execution_count": 43,
   "metadata": {},
   "outputs": [],
   "source": [
    "epochs = 20"
   ]
  },
  {
   "cell_type": "code",
   "execution_count": null,
   "metadata": {},
   "outputs": [],
   "source": [
    "model = GCN(in_channels=93, hidden_channels=128, out_channels=12)\n",
    "optimizer = optim.Adam(model.parameters(), lr=0.001)\n",
    "loss_fn = torch.nn.BCEWithLogitsLoss()\n",
    "model.to(device).train()\n",
    "losses = []\n",
    "roc_auc_scores = []\n",
    "for epoch in range(epochs):\n",
    "    total_loss = 0\n",
    "    for i, data in enumerate(tqdm(train_loader)):\n",
    "        data = data.to(device)\n",
    "        output = model(data)\n",
    "        targets = data.y.float().to(device)\n",
    "        mask = ~torch.isnan(targets)\n",
    "        loss = loss_fn(output[mask], targets[mask])\n",
    "        optimizer.zero_grad()\n",
    "        loss.backward()\n",
    "        optimizer.step()\n",
    "        total_loss += loss\n",
    "    avg_loss = total_loss / len(train_loader)\n",
    "    print(f'epoch {epoch+1}: loss: {avg_loss:.4f}')\n",
    "    losses.append(avg_loss.item())\n",
    "    roc_auc_scores.append(validate(model, val_loader).item())\n",
    "torch.save(losses, 'gcn_tox21_chienn_losses.pt')\n",
    "torch.save(roc_auc_scores, 'gcn_tox21_chienn_auc_roc.pt')"
   ]
  },
  {
   "cell_type": "code",
   "execution_count": null,
   "metadata": {},
   "outputs": [],
   "source": [
    "model = GAT(in_channels=93, hidden_channels=128, out_channels=12)\n",
    "optimizer = optim.Adam(model.parameters(), lr=0.001)\n",
    "loss_fn = torch.nn.MSELoss()\n",
    "model.to('cuda').train()\n",
    "losses = []\n",
    "roc_auc_scores = []\n",
    "for epoch in range(epochs):\n",
    "    total_loss = 0\n",
    "    for i, data in enumerate(tqdm(train_loader)):\n",
    "        data = data.to(device)\n",
    "        output = model(data)\n",
    "        targets = data.y.float().to(device)\n",
    "        mask = ~torch.isnan(targets)\n",
    "        loss = loss_fn(output[mask], targets[mask])\n",
    "        optimizer.zero_grad()\n",
    "        loss.backward()\n",
    "        optimizer.step()\n",
    "        total_loss += loss\n",
    "    avg_loss = total_loss / len(train_loader)\n",
    "    print(f'epoch {epoch+1}: loss: {avg_loss:.4f}')\n",
    "    losses.append(avg_loss.item())\n",
    "    roc_auc_scores.append(validate(model, val_loader).item())\n",
    "torch.save(losses, 'gat_tox21_chienn_losses.pt')\n",
    "torch.save(roc_auc_scores, 'gat_tox21_chienn_auc_roc.pt')"
   ]
  },
  {
   "cell_type": "code",
   "execution_count": null,
   "metadata": {},
   "outputs": [],
   "source": [
    "model = GIN(in_channels=93, hidden_channels=128, out_channels=12)\n",
    "optimizer = optim.Adam(model.parameters(), lr=0.001)\n",
    "loss_fn = torch.nn.MSELoss()\n",
    "model.to('cuda').train()\n",
    "losses = []\n",
    "roc_auc_scores = []\n",
    "for epoch in range(epochs):\n",
    "    total_loss = 0\n",
    "    for i, data in enumerate(tqdm(train_loader)):\n",
    "        data = data.to(device)\n",
    "        output = model(data)\n",
    "        targets = data.y.float().to(device)\n",
    "        mask = ~torch.isnan(targets)\n",
    "        loss = loss_fn(output[mask], targets[mask])\n",
    "        optimizer.zero_grad()\n",
    "        loss.backward()\n",
    "        optimizer.step()\n",
    "        total_loss += loss\n",
    "    avg_loss = total_loss / len(train_loader)\n",
    "    print(f'epoch {epoch+1}: loss: {avg_loss:.4f}')\n",
    "    losses.append(avg_loss.item())\n",
    "    roc_auc_scores.append(validate(model, val_loader).item())\n",
    "torch.save(losses, 'gin_tox21_chienn_losses.pt')\n",
    "torch.save(roc_auc_scores, 'gin_tox21_chienn_auc_roc.pt')"
   ]
  }
 ],
 "metadata": {
  "kernelspec": {
   "display_name": ".venv",
   "language": "python",
   "name": "python3"
  },
  "language_info": {
   "codemirror_mode": {
    "name": "ipython",
    "version": 3
   },
   "file_extension": ".py",
   "mimetype": "text/x-python",
   "name": "python",
   "nbconvert_exporter": "python",
   "pygments_lexer": "ipython3",
   "version": "3.11.9"
  }
 },
 "nbformat": 4,
 "nbformat_minor": 2
}
